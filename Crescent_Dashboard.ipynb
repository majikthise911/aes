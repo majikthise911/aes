{
 "cells": [
  {
   "cell_type": "markdown",
   "metadata": {},
   "source": [
    "# Crescent Engineering Contracting Strategy Dashboard\n",
    "\n",
    "Interactive dashboard for tracking project milestones, schedules, and dependencies."
   ]
  },
  {
   "cell_type": "code",
   "execution_count": 1,
   "metadata": {},
   "outputs": [],
   "source": [
    "# Import required libraries\n",
    "import pandas as pd\n",
    "import plotly.express as px\n",
    "import plotly.graph_objects as go\n",
    "from plotly.subplots import make_subplots\n",
    "from datetime import datetime, timedelta\n",
    "import numpy as np\n",
    "from IPython.display import display, HTML\n",
    "import warnings\n",
    "warnings.filterwarnings('ignore')"
   ]
  },
  {
   "cell_type": "code",
   "execution_count": null,
   "metadata": {},
   "outputs": [],
   "source": "# Load data from Excel\nexcel_file = 'Crescent - Engineering Contracting Strategy.xlsx'\ndf_sheet1 = pd.read_excel(excel_file, sheet_name='Sheet1')\ndf_sheet2 = pd.read_excel(excel_file, sheet_name='Sheet2')\n\n# Clean the data\ndf = df_sheet1.copy()\ndf = df.rename(columns={'Milestone / Deliverable': 'Milestone', 'Dependencies/Notes': 'Notes'})\n\n# Convert dates to datetime\ndf['Start'] = pd.to_datetime(df['Start'], errors='coerce')\ndf['Finish'] = pd.to_datetime(df['Finish'], errors='coerce')\n\n# Calculate duration in days\ndf['Duration'] = (df['Finish'] - df['Start']).dt.days\ndf['Duration'] = df['Duration'].fillna(0)\n\n# For tasks without start date, use finish date minus 1 day\ndf.loc[df['Start'].isna(), 'Start'] = df.loc[df['Start'].isna(), 'Finish'] - pd.Timedelta(days=1)\n\n# Calculate progress (assume today's date)\ntoday = pd.Timestamp.now()\ndf['Progress'] = 0.0\n\n# Calculate progress for each task\nfor idx, row in df.iterrows():\n    if pd.notna(row['Start']) and pd.notna(row['Finish']):\n        if today >= row['Finish']:\n            df.at[idx, 'Progress'] = 100\n        elif today <= row['Start']:\n            df.at[idx, 'Progress'] = 0\n        else:\n            total_days = (row['Finish'] - row['Start']).days\n            elapsed_days = (today - row['Start']).days\n            df.at[idx, 'Progress'] = (elapsed_days / total_days * 100) if total_days > 0 else 0\n\n# Add status based on progress\ndf['Status'] = df['Progress'].apply(lambda x: 'Completed' if x >= 100 else ('In Progress' if x > 0 else 'Not Started'))\n\n# Add color coding\ndf['Color'] = df['Owner'].map({\n    'AES': '#2E86AB',\n    'PRE': '#A23B72',\n    'AES ↔ PRE': '#F18F01'\n})\n\nprint(f\"Dashboard loaded: {len(df)} milestones tracked\")\nprint(f\"Date range: {df['Start'].min().strftime('%Y-%m-%d')} to {df['Finish'].max().strftime('%Y-%m-%d')}\")"
  },
  {
   "cell_type": "markdown",
   "metadata": {},
   "source": [
    "# Crescent Engineering Contracting Strategy - Unified Dashboard"
   ]
  },
  {
   "cell_type": "code",
   "execution_count": 3,
   "metadata": {},
   "outputs": [
    {
     "data": {
      "text/html": [
       "\n",
       "<div style='display: flex; gap: 20px; margin: 20px 0; flex-wrap: wrap;'>\n",
       "    <div style='background: linear-gradient(135deg, #667eea 0%, #764ba2 100%); \n",
       "                color: white; padding: 25px; border-radius: 15px; flex: 1; min-width: 200px;\n",
       "                box-shadow: 0 10px 30px rgba(0,0,0,0.2);'>\n",
       "        <div style='font-size: 14px; opacity: 0.9; margin-bottom: 10px;'>Total Milestones</div>\n",
       "        <div style='font-size: 42px; font-weight: bold;'>9</div>\n",
       "    </div>\n",
       "    <div style='background: linear-gradient(135deg, #f093fb 0%, #f5576c 100%); \n",
       "                color: white; padding: 25px; border-radius: 15px; flex: 1; min-width: 200px;\n",
       "                box-shadow: 0 10px 30px rgba(0,0,0,0.2);'>\n",
       "        <div style='font-size: 14px; opacity: 0.9; margin-bottom: 10px;'>In Progress</div>\n",
       "        <div style='font-size: 42px; font-weight: bold;'>0</div>\n",
       "    </div>\n",
       "    <div style='background: linear-gradient(135deg, #4facfe 0%, #00f2fe 100%); \n",
       "                color: white; padding: 25px; border-radius: 15px; flex: 1; min-width: 200px;\n",
       "                box-shadow: 0 10px 30px rgba(0,0,0,0.2);'>\n",
       "        <div style='font-size: 14px; opacity: 0.9; margin-bottom: 10px;'>Not Started</div>\n",
       "        <div style='font-size: 42px; font-weight: bold;'>9</div>\n",
       "    </div>\n",
       "    <div style='background: linear-gradient(135deg, #43e97b 0%, #38f9d7 100%); \n",
       "                color: white; padding: 25px; border-radius: 15px; flex: 1; min-width: 200px;\n",
       "                box-shadow: 0 10px 30px rgba(0,0,0,0.2);'>\n",
       "        <div style='font-size: 14px; opacity: 0.9; margin-bottom: 10px;'>Overall Progress</div>\n",
       "        <div style='font-size: 42px; font-weight: bold;'>0.0%</div>\n",
       "    </div>\n",
       "</div>\n"
      ],
      "text/plain": [
       "<IPython.core.display.HTML object>"
      ]
     },
     "metadata": {},
     "output_type": "display_data"
    },
    {
     "data": {
      "application/vnd.plotly.v1+json": {
       "config": {
        "plotlyServerURL": "https://plot.ly"
       },
       "data": [
        {
         "base": "2025-10-03T00:00:00",
         "hovertemplate": "<b>Project engineering document handoff </b><br>Owner: AES<br>Start: 2025-10-03<br>Finish: 2025-10-06<br>Duration: 3.0 days<br>Progress: 0.0%<br>Status: Not Started<extra></extra>",
         "marker": {
          "color": "#2E86AB",
          "line": {
           "color": "#2E86AB",
           "width": 2
          },
          "opacity": 0.3
         },
         "name": "AES",
         "orientation": "h",
         "showlegend": false,
         "type": "bar",
         "x": [
          3
         ],
         "xaxis": "x",
         "y": [
          "Project engineering document handoff "
         ],
         "yaxis": "y"
        },
        {
         "base": "2025-10-09T00:00:00",
         "hovertemplate": "<b>AES provide external folder with EPCA exhibits </b><br>Owner: AES ↔ PRE<br>Start: 2025-10-09<br>Finish: 2025-10-10<br>Duration: 0.0 days<br>Progress: 0.0%<br>Status: Not Started<extra></extra>",
         "marker": {
          "color": "#F18F01",
          "line": {
           "color": "#F18F01",
           "width": 2
          },
          "opacity": 0.3
         },
         "name": "AES ↔ PRE",
         "orientation": "h",
         "showlegend": false,
         "type": "bar",
         "x": [
          0
         ],
         "xaxis": "x",
         "y": [
          "AES provide external folder with EPCA exhibits "
         ],
         "yaxis": "y"
        },
        {
         "base": "2025-10-10T00:00:00",
         "hovertemplate": "<b>Internal layout modeling   (510ac & 550ac)</b><br>Owner: AES<br>Start: 2025-10-10<br>Finish: 2025-10-17<br>Duration: 7.0 days<br>Progress: 0.0%<br>Status: Not Started<extra></extra>",
         "marker": {
          "color": "#2E86AB",
          "line": {
           "color": "#2E86AB",
           "width": 2
          },
          "opacity": 0.3
         },
         "name": "AES",
         "orientation": "h",
         "showlegend": false,
         "type": "bar",
         "x": [
          7
         ],
         "xaxis": "x",
         "y": [
          "Internal layout modeling   (510ac & 550ac)"
         ],
         "yaxis": "y"
        },
        {
         "base": "2025-10-16T00:00:00",
         "hovertemplate": "<b>layout decision </b><br>Owner: AES<br>Start: 2025-10-16<br>Finish: 2025-10-17<br>Duration: 0.0 days<br>Progress: 0.0%<br>Status: Not Started<extra></extra>",
         "marker": {
          "color": "#2E86AB",
          "line": {
           "color": "#2E86AB",
           "width": 2
          },
          "opacity": 0.3
         },
         "name": "AES",
         "orientation": "h",
         "showlegend": false,
         "type": "bar",
         "x": [
          0
         ],
         "xaxis": "x",
         "y": [
          "layout decision "
         ],
         "yaxis": "y"
        },
        {
         "base": "2025-10-10T00:00:00",
         "hovertemplate": "<b>Layout Redesign  (PRE 10%, schedule, and binding pricing)</b><br>Owner: PRE<br>Start: 2025-10-10<br>Finish: 2025-11-21<br>Duration: 42.0 days<br>Progress: 0.0%<br>Status: Not Started<extra></extra>",
         "marker": {
          "color": "#A23B72",
          "line": {
           "color": "#A23B72",
           "width": 2
          },
          "opacity": 0.3
         },
         "name": "PRE",
         "orientation": "h",
         "showlegend": false,
         "type": "bar",
         "x": [
          42
         ],
         "xaxis": "x",
         "y": [
          "Layout Redesign  (PRE 10%, schedule, and binding pricing)"
         ],
         "yaxis": "y"
        },
        {
         "base": "2025-10-19T00:00:00",
         "hovertemplate": "<b>Updated PPA offer submission </b><br>Owner: AES<br>Start: 2025-10-19<br>Finish: 2025-10-20<br>Duration: 0.0 days<br>Progress: 0.0%<br>Status: Not Started<extra></extra>",
         "marker": {
          "color": "#2E86AB",
          "line": {
           "color": "#2E86AB",
           "width": 2
          },
          "opacity": 0.3
         },
         "name": "AES",
         "orientation": "h",
         "showlegend": false,
         "type": "bar",
         "x": [
          0
         ],
         "xaxis": "x",
         "y": [
          "Updated PPA offer submission "
         ],
         "yaxis": "y"
        },
        {
         "base": "2025-10-30T00:00:00",
         "hovertemplate": "<b>PPA decision </b><br>Owner: AES<br>Start: 2025-10-30<br>Finish: 2025-10-31<br>Duration: 0.0 days<br>Progress: 0.0%<br>Status: Not Started<extra></extra>",
         "marker": {
          "color": "#2E86AB",
          "line": {
           "color": "#2E86AB",
           "width": 2
          },
          "opacity": 0.3
         },
         "name": "AES",
         "orientation": "h",
         "showlegend": false,
         "type": "bar",
         "x": [
          0
         ],
         "xaxis": "x",
         "y": [
          "PPA decision "
         ],
         "yaxis": "y"
        },
        {
         "base": "2025-11-21T00:00:00",
         "hovertemplate": "<b>EPCA negotiations</b><br>Owner: AES ↔ PRE<br>Start: 2025-11-21<br>Finish: 2025-12-15<br>Duration: 24.0 days<br>Progress: 0.0%<br>Status: Not Started<extra></extra>",
         "marker": {
          "color": "#F18F01",
          "line": {
           "color": "#F18F01",
           "width": 2
          },
          "opacity": 0.3
         },
         "name": "AES ↔ PRE",
         "orientation": "h",
         "showlegend": false,
         "type": "bar",
         "x": [
          24
         ],
         "xaxis": "x",
         "y": [
          "EPCA negotiations"
         ],
         "yaxis": "y"
        },
        {
         "base": "2025-12-14T00:00:00",
         "hovertemplate": "<b>Earliest possible EPCA execution</b><br>Owner: AES ↔ PRE<br>Start: 2025-12-14<br>Finish: 2025-12-15<br>Duration: 0.0 days<br>Progress: 0.0%<br>Status: Not Started<extra></extra>",
         "marker": {
          "color": "#F18F01",
          "line": {
           "color": "#F18F01",
           "width": 2
          },
          "opacity": 0.3
         },
         "name": "AES ↔ PRE",
         "orientation": "h",
         "showlegend": false,
         "type": "bar",
         "x": [
          0
         ],
         "xaxis": "x",
         "y": [
          "Earliest possible EPCA execution"
         ],
         "yaxis": "y"
        },
        {
         "hovertemplate": "<b>%{y}</b><br>Progress: %{x:.1f}%<extra></extra>",
         "marker": {
          "color": {
           "bdata": "AAAAAAAAAAAAAAAAAAAAAAAAAAAAAAAAAAAAAAAAAAAAAAAAAAAAAAAAAAAAAAAAAAAAAAAAAAAAAAAAAAAAAAAAAAAAAAAA",
           "dtype": "f8"
          },
          "colorscale": [
           [
            0,
            "#e74c3c"
           ],
           [
            0.5,
            "#f39c12"
           ],
           [
            1,
            "#27ae60"
           ]
          ],
          "showscale": false
         },
         "orientation": "h",
         "showlegend": false,
         "text": [
          "0.0%",
          "0.0%",
          "0.0%",
          "0.0%",
          "0.0%",
          "0.0%",
          "0.0%",
          "0.0%",
          "0.0%"
         ],
         "textposition": "inside",
         "type": "bar",
         "x": {
          "bdata": "AAAAAAAAAAAAAAAAAAAAAAAAAAAAAAAAAAAAAAAAAAAAAAAAAAAAAAAAAAAAAAAAAAAAAAAAAAAAAAAAAAAAAAAAAAAAAAAA",
          "dtype": "f8"
         },
         "xaxis": "x2",
         "y": [
          "Project engineering document handoff ",
          "AES provide external folder with EPCA exhibits ",
          "Internal layout modeling   (510ac & 550ac)",
          "layout decision ",
          "Layout Redesign  (PRE 10%, schedule, and binding pricing)",
          "Updated PPA offer submission ",
          "PPA decision ",
          "EPCA negotiations",
          "Earliest possible EPCA execution"
         ],
         "yaxis": "y2"
        },
        {
         "domain": {
          "x": [
           0.64,
           1
          ],
          "y": [
           0.31,
           0.5
          ]
         },
         "hole": 0.4,
         "labels": [
          "Not Started"
         ],
         "marker": {
          "colors": [
           "#43e97b",
           "#f093fb",
           "#4facfe"
          ]
         },
         "showlegend": true,
         "type": "pie",
         "values": {
          "bdata": "CQ==",
          "dtype": "i1"
         }
        },
        {
         "marker": {
          "color": [
           "#2E86AB",
           "#A23B72",
           "#F18F01"
          ]
         },
         "showlegend": false,
         "text": {
          "bdata": "AAAAAAAAFEAAAAAAAAAIQAAAAAAAAPA/",
          "dtype": "f8"
         },
         "textposition": "auto",
         "type": "bar",
         "x": [
          "AES",
          "AES ↔ PRE",
          "PRE"
         ],
         "xaxis": "x4",
         "y": {
          "bdata": "BQMB",
          "dtype": "i1"
         },
         "yaxis": "y4"
        }
       ],
       "layout": {
        "annotations": [
         {
          "font": {
           "size": 16
          },
          "showarrow": false,
          "text": "Project Timeline (Gantt Chart)",
          "x": 0.5,
          "xanchor": "center",
          "xref": "paper",
          "y": 1,
          "yanchor": "bottom",
          "yref": "paper"
         },
         {
          "font": {
           "size": 16
          },
          "showarrow": false,
          "text": "Progress by Milestone",
          "x": 0.27,
          "xanchor": "center",
          "xref": "paper",
          "y": 0.5,
          "yanchor": "bottom",
          "yref": "paper"
         },
         {
          "font": {
           "size": 16
          },
          "showarrow": false,
          "text": "Task Status Distribution",
          "x": 0.8200000000000001,
          "xanchor": "center",
          "xref": "paper",
          "y": 0.5,
          "yanchor": "bottom",
          "yref": "paper"
         },
         {
          "font": {
           "size": 16
          },
          "showarrow": false,
          "text": "Tasks by Owner",
          "x": 0.27,
          "xanchor": "center",
          "xref": "paper",
          "y": 0.19,
          "yanchor": "bottom",
          "yref": "paper"
         },
         {
          "showarrow": false,
          "text": "Today",
          "x": 1759479054440.0278,
          "xanchor": "center",
          "xref": "x",
          "y": 1,
          "yanchor": "bottom",
          "yref": "y domain"
         }
        ],
        "barmode": "overlay",
        "font": {
         "family": "Arial, sans-serif",
         "size": 11
        },
        "height": 1400,
        "paper_bgcolor": "white",
        "plot_bgcolor": "white",
        "shapes": [
         {
          "line": {
           "color": "red",
           "dash": "dash"
          },
          "type": "line",
          "x0": 1759479054440.0278,
          "x1": 1759479054440.0278,
          "xref": "x",
          "y0": 0,
          "y1": 1,
          "yref": "y domain"
         }
        ],
        "showlegend": true,
        "template": {
         "data": {
          "bar": [
           {
            "error_x": {
             "color": "#2a3f5f"
            },
            "error_y": {
             "color": "#2a3f5f"
            },
            "marker": {
             "line": {
              "color": "#E5ECF6",
              "width": 0.5
             },
             "pattern": {
              "fillmode": "overlay",
              "size": 10,
              "solidity": 0.2
             }
            },
            "type": "bar"
           }
          ],
          "barpolar": [
           {
            "marker": {
             "line": {
              "color": "#E5ECF6",
              "width": 0.5
             },
             "pattern": {
              "fillmode": "overlay",
              "size": 10,
              "solidity": 0.2
             }
            },
            "type": "barpolar"
           }
          ],
          "carpet": [
           {
            "aaxis": {
             "endlinecolor": "#2a3f5f",
             "gridcolor": "white",
             "linecolor": "white",
             "minorgridcolor": "white",
             "startlinecolor": "#2a3f5f"
            },
            "baxis": {
             "endlinecolor": "#2a3f5f",
             "gridcolor": "white",
             "linecolor": "white",
             "minorgridcolor": "white",
             "startlinecolor": "#2a3f5f"
            },
            "type": "carpet"
           }
          ],
          "choropleth": [
           {
            "colorbar": {
             "outlinewidth": 0,
             "ticks": ""
            },
            "type": "choropleth"
           }
          ],
          "contour": [
           {
            "colorbar": {
             "outlinewidth": 0,
             "ticks": ""
            },
            "colorscale": [
             [
              0,
              "#0d0887"
             ],
             [
              0.1111111111111111,
              "#46039f"
             ],
             [
              0.2222222222222222,
              "#7201a8"
             ],
             [
              0.3333333333333333,
              "#9c179e"
             ],
             [
              0.4444444444444444,
              "#bd3786"
             ],
             [
              0.5555555555555556,
              "#d8576b"
             ],
             [
              0.6666666666666666,
              "#ed7953"
             ],
             [
              0.7777777777777778,
              "#fb9f3a"
             ],
             [
              0.8888888888888888,
              "#fdca26"
             ],
             [
              1,
              "#f0f921"
             ]
            ],
            "type": "contour"
           }
          ],
          "contourcarpet": [
           {
            "colorbar": {
             "outlinewidth": 0,
             "ticks": ""
            },
            "type": "contourcarpet"
           }
          ],
          "heatmap": [
           {
            "colorbar": {
             "outlinewidth": 0,
             "ticks": ""
            },
            "colorscale": [
             [
              0,
              "#0d0887"
             ],
             [
              0.1111111111111111,
              "#46039f"
             ],
             [
              0.2222222222222222,
              "#7201a8"
             ],
             [
              0.3333333333333333,
              "#9c179e"
             ],
             [
              0.4444444444444444,
              "#bd3786"
             ],
             [
              0.5555555555555556,
              "#d8576b"
             ],
             [
              0.6666666666666666,
              "#ed7953"
             ],
             [
              0.7777777777777778,
              "#fb9f3a"
             ],
             [
              0.8888888888888888,
              "#fdca26"
             ],
             [
              1,
              "#f0f921"
             ]
            ],
            "type": "heatmap"
           }
          ],
          "histogram": [
           {
            "marker": {
             "pattern": {
              "fillmode": "overlay",
              "size": 10,
              "solidity": 0.2
             }
            },
            "type": "histogram"
           }
          ],
          "histogram2d": [
           {
            "colorbar": {
             "outlinewidth": 0,
             "ticks": ""
            },
            "colorscale": [
             [
              0,
              "#0d0887"
             ],
             [
              0.1111111111111111,
              "#46039f"
             ],
             [
              0.2222222222222222,
              "#7201a8"
             ],
             [
              0.3333333333333333,
              "#9c179e"
             ],
             [
              0.4444444444444444,
              "#bd3786"
             ],
             [
              0.5555555555555556,
              "#d8576b"
             ],
             [
              0.6666666666666666,
              "#ed7953"
             ],
             [
              0.7777777777777778,
              "#fb9f3a"
             ],
             [
              0.8888888888888888,
              "#fdca26"
             ],
             [
              1,
              "#f0f921"
             ]
            ],
            "type": "histogram2d"
           }
          ],
          "histogram2dcontour": [
           {
            "colorbar": {
             "outlinewidth": 0,
             "ticks": ""
            },
            "colorscale": [
             [
              0,
              "#0d0887"
             ],
             [
              0.1111111111111111,
              "#46039f"
             ],
             [
              0.2222222222222222,
              "#7201a8"
             ],
             [
              0.3333333333333333,
              "#9c179e"
             ],
             [
              0.4444444444444444,
              "#bd3786"
             ],
             [
              0.5555555555555556,
              "#d8576b"
             ],
             [
              0.6666666666666666,
              "#ed7953"
             ],
             [
              0.7777777777777778,
              "#fb9f3a"
             ],
             [
              0.8888888888888888,
              "#fdca26"
             ],
             [
              1,
              "#f0f921"
             ]
            ],
            "type": "histogram2dcontour"
           }
          ],
          "mesh3d": [
           {
            "colorbar": {
             "outlinewidth": 0,
             "ticks": ""
            },
            "type": "mesh3d"
           }
          ],
          "parcoords": [
           {
            "line": {
             "colorbar": {
              "outlinewidth": 0,
              "ticks": ""
             }
            },
            "type": "parcoords"
           }
          ],
          "pie": [
           {
            "automargin": true,
            "type": "pie"
           }
          ],
          "scatter": [
           {
            "fillpattern": {
             "fillmode": "overlay",
             "size": 10,
             "solidity": 0.2
            },
            "type": "scatter"
           }
          ],
          "scatter3d": [
           {
            "line": {
             "colorbar": {
              "outlinewidth": 0,
              "ticks": ""
             }
            },
            "marker": {
             "colorbar": {
              "outlinewidth": 0,
              "ticks": ""
             }
            },
            "type": "scatter3d"
           }
          ],
          "scattercarpet": [
           {
            "marker": {
             "colorbar": {
              "outlinewidth": 0,
              "ticks": ""
             }
            },
            "type": "scattercarpet"
           }
          ],
          "scattergeo": [
           {
            "marker": {
             "colorbar": {
              "outlinewidth": 0,
              "ticks": ""
             }
            },
            "type": "scattergeo"
           }
          ],
          "scattergl": [
           {
            "marker": {
             "colorbar": {
              "outlinewidth": 0,
              "ticks": ""
             }
            },
            "type": "scattergl"
           }
          ],
          "scattermap": [
           {
            "marker": {
             "colorbar": {
              "outlinewidth": 0,
              "ticks": ""
             }
            },
            "type": "scattermap"
           }
          ],
          "scattermapbox": [
           {
            "marker": {
             "colorbar": {
              "outlinewidth": 0,
              "ticks": ""
             }
            },
            "type": "scattermapbox"
           }
          ],
          "scatterpolar": [
           {
            "marker": {
             "colorbar": {
              "outlinewidth": 0,
              "ticks": ""
             }
            },
            "type": "scatterpolar"
           }
          ],
          "scatterpolargl": [
           {
            "marker": {
             "colorbar": {
              "outlinewidth": 0,
              "ticks": ""
             }
            },
            "type": "scatterpolargl"
           }
          ],
          "scatterternary": [
           {
            "marker": {
             "colorbar": {
              "outlinewidth": 0,
              "ticks": ""
             }
            },
            "type": "scatterternary"
           }
          ],
          "surface": [
           {
            "colorbar": {
             "outlinewidth": 0,
             "ticks": ""
            },
            "colorscale": [
             [
              0,
              "#0d0887"
             ],
             [
              0.1111111111111111,
              "#46039f"
             ],
             [
              0.2222222222222222,
              "#7201a8"
             ],
             [
              0.3333333333333333,
              "#9c179e"
             ],
             [
              0.4444444444444444,
              "#bd3786"
             ],
             [
              0.5555555555555556,
              "#d8576b"
             ],
             [
              0.6666666666666666,
              "#ed7953"
             ],
             [
              0.7777777777777778,
              "#fb9f3a"
             ],
             [
              0.8888888888888888,
              "#fdca26"
             ],
             [
              1,
              "#f0f921"
             ]
            ],
            "type": "surface"
           }
          ],
          "table": [
           {
            "cells": {
             "fill": {
              "color": "#EBF0F8"
             },
             "line": {
              "color": "white"
             }
            },
            "header": {
             "fill": {
              "color": "#C8D4E3"
             },
             "line": {
              "color": "white"
             }
            },
            "type": "table"
           }
          ]
         },
         "layout": {
          "annotationdefaults": {
           "arrowcolor": "#2a3f5f",
           "arrowhead": 0,
           "arrowwidth": 1
          },
          "autotypenumbers": "strict",
          "coloraxis": {
           "colorbar": {
            "outlinewidth": 0,
            "ticks": ""
           }
          },
          "colorscale": {
           "diverging": [
            [
             0,
             "#8e0152"
            ],
            [
             0.1,
             "#c51b7d"
            ],
            [
             0.2,
             "#de77ae"
            ],
            [
             0.3,
             "#f1b6da"
            ],
            [
             0.4,
             "#fde0ef"
            ],
            [
             0.5,
             "#f7f7f7"
            ],
            [
             0.6,
             "#e6f5d0"
            ],
            [
             0.7,
             "#b8e186"
            ],
            [
             0.8,
             "#7fbc41"
            ],
            [
             0.9,
             "#4d9221"
            ],
            [
             1,
             "#276419"
            ]
           ],
           "sequential": [
            [
             0,
             "#0d0887"
            ],
            [
             0.1111111111111111,
             "#46039f"
            ],
            [
             0.2222222222222222,
             "#7201a8"
            ],
            [
             0.3333333333333333,
             "#9c179e"
            ],
            [
             0.4444444444444444,
             "#bd3786"
            ],
            [
             0.5555555555555556,
             "#d8576b"
            ],
            [
             0.6666666666666666,
             "#ed7953"
            ],
            [
             0.7777777777777778,
             "#fb9f3a"
            ],
            [
             0.8888888888888888,
             "#fdca26"
            ],
            [
             1,
             "#f0f921"
            ]
           ],
           "sequentialminus": [
            [
             0,
             "#0d0887"
            ],
            [
             0.1111111111111111,
             "#46039f"
            ],
            [
             0.2222222222222222,
             "#7201a8"
            ],
            [
             0.3333333333333333,
             "#9c179e"
            ],
            [
             0.4444444444444444,
             "#bd3786"
            ],
            [
             0.5555555555555556,
             "#d8576b"
            ],
            [
             0.6666666666666666,
             "#ed7953"
            ],
            [
             0.7777777777777778,
             "#fb9f3a"
            ],
            [
             0.8888888888888888,
             "#fdca26"
            ],
            [
             1,
             "#f0f921"
            ]
           ]
          },
          "colorway": [
           "#636efa",
           "#EF553B",
           "#00cc96",
           "#ab63fa",
           "#FFA15A",
           "#19d3f3",
           "#FF6692",
           "#B6E880",
           "#FF97FF",
           "#FECB52"
          ],
          "font": {
           "color": "#2a3f5f"
          },
          "geo": {
           "bgcolor": "white",
           "lakecolor": "white",
           "landcolor": "#E5ECF6",
           "showlakes": true,
           "showland": true,
           "subunitcolor": "white"
          },
          "hoverlabel": {
           "align": "left"
          },
          "hovermode": "closest",
          "mapbox": {
           "style": "light"
          },
          "paper_bgcolor": "white",
          "plot_bgcolor": "#E5ECF6",
          "polar": {
           "angularaxis": {
            "gridcolor": "white",
            "linecolor": "white",
            "ticks": ""
           },
           "bgcolor": "#E5ECF6",
           "radialaxis": {
            "gridcolor": "white",
            "linecolor": "white",
            "ticks": ""
           }
          },
          "scene": {
           "xaxis": {
            "backgroundcolor": "#E5ECF6",
            "gridcolor": "white",
            "gridwidth": 2,
            "linecolor": "white",
            "showbackground": true,
            "ticks": "",
            "zerolinecolor": "white"
           },
           "yaxis": {
            "backgroundcolor": "#E5ECF6",
            "gridcolor": "white",
            "gridwidth": 2,
            "linecolor": "white",
            "showbackground": true,
            "ticks": "",
            "zerolinecolor": "white"
           },
           "zaxis": {
            "backgroundcolor": "#E5ECF6",
            "gridcolor": "white",
            "gridwidth": 2,
            "linecolor": "white",
            "showbackground": true,
            "ticks": "",
            "zerolinecolor": "white"
           }
          },
          "shapedefaults": {
           "line": {
            "color": "#2a3f5f"
           }
          },
          "ternary": {
           "aaxis": {
            "gridcolor": "white",
            "linecolor": "white",
            "ticks": ""
           },
           "baxis": {
            "gridcolor": "white",
            "linecolor": "white",
            "ticks": ""
           },
           "bgcolor": "#E5ECF6",
           "caxis": {
            "gridcolor": "white",
            "linecolor": "white",
            "ticks": ""
           }
          },
          "title": {
           "x": 0.05
          },
          "xaxis": {
           "automargin": true,
           "gridcolor": "white",
           "linecolor": "white",
           "ticks": "",
           "title": {
            "standoff": 15
           },
           "zerolinecolor": "white",
           "zerolinewidth": 2
          },
          "yaxis": {
           "automargin": true,
           "gridcolor": "white",
           "linecolor": "white",
           "ticks": "",
           "title": {
            "standoff": 15
           },
           "zerolinecolor": "white",
           "zerolinewidth": 2
          }
         }
        },
        "title": {
         "font": {
          "color": "#2c3e50",
          "size": 24
         },
         "text": "Crescent Engineering Contracting Strategy Dashboard",
         "x": 0.5,
         "xanchor": "center"
        },
        "xaxis": {
         "anchor": "y",
         "domain": [
          0,
          1
         ],
         "gridcolor": "#ecf0f1",
         "showgrid": true,
         "type": "date"
        },
        "xaxis2": {
         "anchor": "y2",
         "domain": [
          0,
          0.54
         ],
         "gridcolor": "#ecf0f1",
         "range": [
          0,
          100
         ],
         "showgrid": true,
         "title": {
          "text": "Progress (%)"
         }
        },
        "xaxis3": {
         "anchor": "y3",
         "domain": [
          0,
          0.54
         ]
        },
        "xaxis4": {
         "anchor": "y4",
         "domain": [
          0.64,
          1
         ],
         "title": {
          "text": "Owner"
         }
        },
        "yaxis": {
         "anchor": "x",
         "autorange": "reversed",
         "domain": [
          0.62,
          1
         ],
         "gridcolor": "#ecf0f1"
        },
        "yaxis2": {
         "anchor": "x2",
         "autorange": "reversed",
         "domain": [
          0.31,
          0.5
         ],
         "gridcolor": "#ecf0f1"
        },
        "yaxis3": {
         "anchor": "x3",
         "domain": [
          0,
          0.19
         ]
        },
        "yaxis4": {
         "anchor": "x4",
         "domain": [
          0,
          0.19
         ],
         "title": {
          "text": "Count"
         }
        }
       }
      }
     },
     "metadata": {},
     "output_type": "display_data"
    },
    {
     "data": {
      "text/html": [
       "<h3 style='color: #3498db; margin-top: 30px;'>📅 Upcoming Milestones (Next 30 Days)</h3>"
      ],
      "text/plain": [
       "<IPython.core.display.HTML object>"
      ]
     },
     "metadata": {},
     "output_type": "display_data"
    },
    {
     "data": {
      "text/html": [
       "\n",
       "        <div style='background: white; border-left: 5px solid #e74c3c;\n",
       "                    padding: 15px; margin: 10px 0; border-radius: 8px;\n",
       "                    box-shadow: 0 2px 10px rgba(0,0,0,0.1);'>\n",
       "            <div style='display: flex; justify-content: space-between; align-items: center;'>\n",
       "                <div style='font-size: 16px; font-weight: bold; color: #2c3e50;'>Project engineering document handoff </div>\n",
       "                <div style='background: #e74c3c; color: white; padding: 5px 15px; \n",
       "                            border-radius: 20px; font-weight: bold;'>2 days</div>\n",
       "            </div>\n",
       "            <div style='margin-top: 10px; color: #7f8c8d;'>\n",
       "                <strong>Owner:</strong> AES | <strong>Due:</strong> 2025-10-06 | \n",
       "                <strong>Progress:</strong> 0.0%\n",
       "            </div>\n",
       "        </div>\n",
       "        "
      ],
      "text/plain": [
       "<IPython.core.display.HTML object>"
      ]
     },
     "metadata": {},
     "output_type": "display_data"
    },
    {
     "data": {
      "text/html": [
       "\n",
       "        <div style='background: white; border-left: 5px solid #e74c3c;\n",
       "                    padding: 15px; margin: 10px 0; border-radius: 8px;\n",
       "                    box-shadow: 0 2px 10px rgba(0,0,0,0.1);'>\n",
       "            <div style='display: flex; justify-content: space-between; align-items: center;'>\n",
       "                <div style='font-size: 16px; font-weight: bold; color: #2c3e50;'>AES provide external folder with EPCA exhibits </div>\n",
       "                <div style='background: #e74c3c; color: white; padding: 5px 15px; \n",
       "                            border-radius: 20px; font-weight: bold;'>6 days</div>\n",
       "            </div>\n",
       "            <div style='margin-top: 10px; color: #7f8c8d;'>\n",
       "                <strong>Owner:</strong> AES ↔ PRE | <strong>Due:</strong> 2025-10-10 | \n",
       "                <strong>Progress:</strong> 0.0%\n",
       "            </div>\n",
       "        </div>\n",
       "        "
      ],
      "text/plain": [
       "<IPython.core.display.HTML object>"
      ]
     },
     "metadata": {},
     "output_type": "display_data"
    },
    {
     "data": {
      "text/html": [
       "\n",
       "        <div style='background: white; border-left: 5px solid #f39c12;\n",
       "                    padding: 15px; margin: 10px 0; border-radius: 8px;\n",
       "                    box-shadow: 0 2px 10px rgba(0,0,0,0.1);'>\n",
       "            <div style='display: flex; justify-content: space-between; align-items: center;'>\n",
       "                <div style='font-size: 16px; font-weight: bold; color: #2c3e50;'>Internal layout modeling   (510ac & 550ac)</div>\n",
       "                <div style='background: #f39c12; color: white; padding: 5px 15px; \n",
       "                            border-radius: 20px; font-weight: bold;'>13 days</div>\n",
       "            </div>\n",
       "            <div style='margin-top: 10px; color: #7f8c8d;'>\n",
       "                <strong>Owner:</strong> AES | <strong>Due:</strong> 2025-10-17 | \n",
       "                <strong>Progress:</strong> 0.0%\n",
       "            </div>\n",
       "        </div>\n",
       "        "
      ],
      "text/plain": [
       "<IPython.core.display.HTML object>"
      ]
     },
     "metadata": {},
     "output_type": "display_data"
    },
    {
     "data": {
      "text/html": [
       "\n",
       "        <div style='background: white; border-left: 5px solid #f39c12;\n",
       "                    padding: 15px; margin: 10px 0; border-radius: 8px;\n",
       "                    box-shadow: 0 2px 10px rgba(0,0,0,0.1);'>\n",
       "            <div style='display: flex; justify-content: space-between; align-items: center;'>\n",
       "                <div style='font-size: 16px; font-weight: bold; color: #2c3e50;'>layout decision </div>\n",
       "                <div style='background: #f39c12; color: white; padding: 5px 15px; \n",
       "                            border-radius: 20px; font-weight: bold;'>13 days</div>\n",
       "            </div>\n",
       "            <div style='margin-top: 10px; color: #7f8c8d;'>\n",
       "                <strong>Owner:</strong> AES | <strong>Due:</strong> 2025-10-17 | \n",
       "                <strong>Progress:</strong> 0.0%\n",
       "            </div>\n",
       "        </div>\n",
       "        "
      ],
      "text/plain": [
       "<IPython.core.display.HTML object>"
      ]
     },
     "metadata": {},
     "output_type": "display_data"
    },
    {
     "data": {
      "text/html": [
       "\n",
       "        <div style='background: white; border-left: 5px solid #3498db;\n",
       "                    padding: 15px; margin: 10px 0; border-radius: 8px;\n",
       "                    box-shadow: 0 2px 10px rgba(0,0,0,0.1);'>\n",
       "            <div style='display: flex; justify-content: space-between; align-items: center;'>\n",
       "                <div style='font-size: 16px; font-weight: bold; color: #2c3e50;'>Updated PPA offer submission </div>\n",
       "                <div style='background: #3498db; color: white; padding: 5px 15px; \n",
       "                            border-radius: 20px; font-weight: bold;'>16 days</div>\n",
       "            </div>\n",
       "            <div style='margin-top: 10px; color: #7f8c8d;'>\n",
       "                <strong>Owner:</strong> AES | <strong>Due:</strong> 2025-10-20 | \n",
       "                <strong>Progress:</strong> 0.0%\n",
       "            </div>\n",
       "        </div>\n",
       "        "
      ],
      "text/plain": [
       "<IPython.core.display.HTML object>"
      ]
     },
     "metadata": {},
     "output_type": "display_data"
    },
    {
     "data": {
      "text/html": [
       "\n",
       "        <div style='background: white; border-left: 5px solid #3498db;\n",
       "                    padding: 15px; margin: 10px 0; border-radius: 8px;\n",
       "                    box-shadow: 0 2px 10px rgba(0,0,0,0.1);'>\n",
       "            <div style='display: flex; justify-content: space-between; align-items: center;'>\n",
       "                <div style='font-size: 16px; font-weight: bold; color: #2c3e50;'>PPA decision </div>\n",
       "                <div style='background: #3498db; color: white; padding: 5px 15px; \n",
       "                            border-radius: 20px; font-weight: bold;'>27 days</div>\n",
       "            </div>\n",
       "            <div style='margin-top: 10px; color: #7f8c8d;'>\n",
       "                <strong>Owner:</strong> AES | <strong>Due:</strong> 2025-10-31 | \n",
       "                <strong>Progress:</strong> 0.0%\n",
       "            </div>\n",
       "        </div>\n",
       "        "
      ],
      "text/plain": [
       "<IPython.core.display.HTML object>"
      ]
     },
     "metadata": {},
     "output_type": "display_data"
    },
    {
     "data": {
      "text/html": [
       "<h3 style='color: #2c3e50; margin-top: 30px;'>📋 Detailed Milestone Information</h3>"
      ],
      "text/plain": [
       "<IPython.core.display.HTML object>"
      ]
     },
     "metadata": {},
     "output_type": "display_data"
    },
    {
     "data": {
      "text/html": [
       "<style type=\"text/css\">\n",
       "#T_385f6 th {\n",
       "  background-color: #34495e;\n",
       "  color: white;\n",
       "  font-weight: bold;\n",
       "  padding: 12px;\n",
       "}\n",
       "#T_385f6 tr:hover {\n",
       "  background-color: #ecf0f1;\n",
       "}\n",
       "#T_385f6_row0_col0, #T_385f6_row0_col1, #T_385f6_row0_col2, #T_385f6_row0_col3, #T_385f6_row0_col4, #T_385f6_row0_col5, #T_385f6_row0_col6, #T_385f6_row0_col7, #T_385f6_row1_col0, #T_385f6_row1_col1, #T_385f6_row1_col2, #T_385f6_row1_col3, #T_385f6_row1_col4, #T_385f6_row1_col5, #T_385f6_row1_col6, #T_385f6_row1_col7, #T_385f6_row2_col0, #T_385f6_row2_col1, #T_385f6_row2_col2, #T_385f6_row2_col3, #T_385f6_row2_col4, #T_385f6_row2_col5, #T_385f6_row2_col6, #T_385f6_row2_col7, #T_385f6_row3_col0, #T_385f6_row3_col1, #T_385f6_row3_col2, #T_385f6_row3_col3, #T_385f6_row3_col4, #T_385f6_row3_col5, #T_385f6_row3_col6, #T_385f6_row3_col7, #T_385f6_row4_col0, #T_385f6_row4_col1, #T_385f6_row4_col2, #T_385f6_row4_col3, #T_385f6_row4_col4, #T_385f6_row4_col5, #T_385f6_row4_col6, #T_385f6_row4_col7, #T_385f6_row5_col0, #T_385f6_row5_col1, #T_385f6_row5_col2, #T_385f6_row5_col3, #T_385f6_row5_col4, #T_385f6_row5_col5, #T_385f6_row5_col6, #T_385f6_row5_col7, #T_385f6_row6_col0, #T_385f6_row6_col1, #T_385f6_row6_col2, #T_385f6_row6_col3, #T_385f6_row6_col4, #T_385f6_row6_col5, #T_385f6_row6_col6, #T_385f6_row6_col7, #T_385f6_row7_col0, #T_385f6_row7_col1, #T_385f6_row7_col2, #T_385f6_row7_col3, #T_385f6_row7_col4, #T_385f6_row7_col5, #T_385f6_row7_col6, #T_385f6_row7_col7, #T_385f6_row8_col0, #T_385f6_row8_col1, #T_385f6_row8_col2, #T_385f6_row8_col3, #T_385f6_row8_col4, #T_385f6_row8_col5, #T_385f6_row8_col6, #T_385f6_row8_col7 {\n",
       "  background-color: white;\n",
       "  color: #2c3e50;\n",
       "  border: 1px solid #ecf0f1;\n",
       "  padding: 10px;\n",
       "  text-align: left;\n",
       "}\n",
       "</style>\n",
       "<table id=\"T_385f6\">\n",
       "  <thead>\n",
       "    <tr>\n",
       "      <th class=\"blank level0\" >&nbsp;</th>\n",
       "      <th id=\"T_385f6_level0_col0\" class=\"col_heading level0 col0\" >Milestone</th>\n",
       "      <th id=\"T_385f6_level0_col1\" class=\"col_heading level0 col1\" >Owner</th>\n",
       "      <th id=\"T_385f6_level0_col2\" class=\"col_heading level0 col2\" >Start</th>\n",
       "      <th id=\"T_385f6_level0_col3\" class=\"col_heading level0 col3\" >Finish</th>\n",
       "      <th id=\"T_385f6_level0_col4\" class=\"col_heading level0 col4\" >Duration</th>\n",
       "      <th id=\"T_385f6_level0_col5\" class=\"col_heading level0 col5\" >Progress</th>\n",
       "      <th id=\"T_385f6_level0_col6\" class=\"col_heading level0 col6\" >Status</th>\n",
       "      <th id=\"T_385f6_level0_col7\" class=\"col_heading level0 col7\" >Notes</th>\n",
       "    </tr>\n",
       "  </thead>\n",
       "  <tbody>\n",
       "    <tr>\n",
       "      <th id=\"T_385f6_level0_row0\" class=\"row_heading level0 row0\" >0</th>\n",
       "      <td id=\"T_385f6_row0_col0\" class=\"data row0 col0\" >Project engineering document handoff </td>\n",
       "      <td id=\"T_385f6_row0_col1\" class=\"data row0 col1\" >AES</td>\n",
       "      <td id=\"T_385f6_row0_col2\" class=\"data row0 col2\" >2025-10-03</td>\n",
       "      <td id=\"T_385f6_row0_col3\" class=\"data row0 col3\" >2025-10-06</td>\n",
       "      <td id=\"T_385f6_row0_col4\" class=\"data row0 col4\" >3.000000</td>\n",
       "      <td id=\"T_385f6_row0_col5\" class=\"data row0 col5\" >0.0%</td>\n",
       "      <td id=\"T_385f6_row0_col6\" class=\"data row0 col6\" >Not Started</td>\n",
       "      <td id=\"T_385f6_row0_col7\" class=\"data row0 col7\" >What can be used from Redonda if anything? </td>\n",
       "    </tr>\n",
       "    <tr>\n",
       "      <th id=\"T_385f6_level0_row1\" class=\"row_heading level0 row1\" >1</th>\n",
       "      <td id=\"T_385f6_row1_col0\" class=\"data row1 col0\" >AES provide external folder with EPCA exhibits </td>\n",
       "      <td id=\"T_385f6_row1_col1\" class=\"data row1 col1\" >AES ↔ PRE</td>\n",
       "      <td id=\"T_385f6_row1_col2\" class=\"data row1 col2\" >2025-10-09</td>\n",
       "      <td id=\"T_385f6_row1_col3\" class=\"data row1 col3\" >2025-10-10</td>\n",
       "      <td id=\"T_385f6_row1_col4\" class=\"data row1 col4\" >0.000000</td>\n",
       "      <td id=\"T_385f6_row1_col5\" class=\"data row1 col5\" >0.0%</td>\n",
       "      <td id=\"T_385f6_row1_col6\" class=\"data row1 col6\" >Not Started</td>\n",
       "      <td id=\"T_385f6_row1_col7\" class=\"data row1 col7\" >Populate external drive with necessary exhibits; requires coordination with SMEs. </td>\n",
       "    </tr>\n",
       "    <tr>\n",
       "      <th id=\"T_385f6_level0_row2\" class=\"row_heading level0 row2\" >2</th>\n",
       "      <td id=\"T_385f6_row2_col0\" class=\"data row2 col0\" >Internal layout modeling   (510ac & 550ac)</td>\n",
       "      <td id=\"T_385f6_row2_col1\" class=\"data row2 col1\" >AES</td>\n",
       "      <td id=\"T_385f6_row2_col2\" class=\"data row2 col2\" >2025-10-10</td>\n",
       "      <td id=\"T_385f6_row2_col3\" class=\"data row2 col3\" >2025-10-17</td>\n",
       "      <td id=\"T_385f6_row2_col4\" class=\"data row2 col4\" >7.000000</td>\n",
       "      <td id=\"T_385f6_row2_col5\" class=\"data row2 col5\" >0.0%</td>\n",
       "      <td id=\"T_385f6_row2_col6\" class=\"data row2 col6\" >Not Started</td>\n",
       "      <td id=\"T_385f6_row2_col7\" class=\"data row2 col7\" >Modeling required to compare 510ac (2) GSU arrangement to 550ac (3) GSU arrangement. Output feeds layout decision. </td>\n",
       "    </tr>\n",
       "    <tr>\n",
       "      <th id=\"T_385f6_level0_row3\" class=\"row_heading level0 row3\" >3</th>\n",
       "      <td id=\"T_385f6_row3_col0\" class=\"data row3 col0\" >layout decision </td>\n",
       "      <td id=\"T_385f6_row3_col1\" class=\"data row3 col1\" >AES</td>\n",
       "      <td id=\"T_385f6_row3_col2\" class=\"data row3 col2\" >2025-10-16</td>\n",
       "      <td id=\"T_385f6_row3_col3\" class=\"data row3 col3\" >2025-10-17</td>\n",
       "      <td id=\"T_385f6_row3_col4\" class=\"data row3 col4\" >0.000000</td>\n",
       "      <td id=\"T_385f6_row3_col5\" class=\"data row3 col5\" >0.0%</td>\n",
       "      <td id=\"T_385f6_row3_col6\" class=\"data row3 col6\" >Not Started</td>\n",
       "      <td id=\"T_385f6_row3_col7\" class=\"data row3 col7\" >Dependent on internal modeling results; selection needed before PRE can lock 10% redesign and pricing.</td>\n",
       "    </tr>\n",
       "    <tr>\n",
       "      <th id=\"T_385f6_level0_row4\" class=\"row_heading level0 row4\" >4</th>\n",
       "      <td id=\"T_385f6_row4_col0\" class=\"data row4 col0\" >Layout Redesign  (PRE 10%, schedule, and binding pricing)</td>\n",
       "      <td id=\"T_385f6_row4_col1\" class=\"data row4 col1\" >PRE</td>\n",
       "      <td id=\"T_385f6_row4_col2\" class=\"data row4 col2\" >2025-10-10</td>\n",
       "      <td id=\"T_385f6_row4_col3\" class=\"data row4 col3\" >2025-11-21</td>\n",
       "      <td id=\"T_385f6_row4_col4\" class=\"data row4 col4\" >42.000000</td>\n",
       "      <td id=\"T_385f6_row4_col5\" class=\"data row4 col5\" >0.0%</td>\n",
       "      <td id=\"T_385f6_row4_col6\" class=\"data row4 col6\" >Not Started</td>\n",
       "      <td id=\"T_385f6_row4_col7\" class=\"data row4 col7\" >PRE to advance 10% layout + preliminary schedule + binding pricing. Must incorporate AES final layout choice, exhibit package, and clarification/ACE items. Assumes landowner feedback and geotech baseline are stable.</td>\n",
       "    </tr>\n",
       "    <tr>\n",
       "      <th id=\"T_385f6_level0_row5\" class=\"row_heading level0 row5\" >5</th>\n",
       "      <td id=\"T_385f6_row5_col0\" class=\"data row5 col0\" >Updated PPA offer submission </td>\n",
       "      <td id=\"T_385f6_row5_col1\" class=\"data row5 col1\" >AES</td>\n",
       "      <td id=\"T_385f6_row5_col2\" class=\"data row5 col2\" >2025-10-19</td>\n",
       "      <td id=\"T_385f6_row5_col3\" class=\"data row5 col3\" >2025-10-20</td>\n",
       "      <td id=\"T_385f6_row5_col4\" class=\"data row5 col4\" >0.000000</td>\n",
       "      <td id=\"T_385f6_row5_col5\" class=\"data row5 col5\" >0.0%</td>\n",
       "      <td id=\"T_385f6_row5_col6\" class=\"data row5 col6\" >Not Started</td>\n",
       "      <td id=\"T_385f6_row5_col7\" class=\"data row5 col7\" >Requires interim pricing basis for Google (510 vs. 550 option). AES submits updated offer in parallel with layout work; outcome informs contracting strategy.</td>\n",
       "    </tr>\n",
       "    <tr>\n",
       "      <th id=\"T_385f6_level0_row6\" class=\"row_heading level0 row6\" >6</th>\n",
       "      <td id=\"T_385f6_row6_col0\" class=\"data row6 col0\" >PPA decision </td>\n",
       "      <td id=\"T_385f6_row6_col1\" class=\"data row6 col1\" >AES</td>\n",
       "      <td id=\"T_385f6_row6_col2\" class=\"data row6 col2\" >2025-10-30</td>\n",
       "      <td id=\"T_385f6_row6_col3\" class=\"data row6 col3\" >2025-10-31</td>\n",
       "      <td id=\"T_385f6_row6_col4\" class=\"data row6 col4\" >0.000000</td>\n",
       "      <td id=\"T_385f6_row6_col5\" class=\"data row6 col5\" >0.0%</td>\n",
       "      <td id=\"T_385f6_row6_col6\" class=\"data row6 col6\" >Not Started</td>\n",
       "      <td id=\"T_385f6_row6_col7\" class=\"data row6 col7\" >Google approval of updated offer; critical gating item. EPCA path only advances if PPA approved.</td>\n",
       "    </tr>\n",
       "    <tr>\n",
       "      <th id=\"T_385f6_level0_row7\" class=\"row_heading level0 row7\" >7</th>\n",
       "      <td id=\"T_385f6_row7_col0\" class=\"data row7 col0\" >EPCA negotiations</td>\n",
       "      <td id=\"T_385f6_row7_col1\" class=\"data row7 col1\" >AES ↔ PRE</td>\n",
       "      <td id=\"T_385f6_row7_col2\" class=\"data row7 col2\" >2025-11-21</td>\n",
       "      <td id=\"T_385f6_row7_col3\" class=\"data row7 col3\" >2025-12-15</td>\n",
       "      <td id=\"T_385f6_row7_col4\" class=\"data row7 col4\" >24.000000</td>\n",
       "      <td id=\"T_385f6_row7_col5\" class=\"data row7 col5\" >0.0%</td>\n",
       "      <td id=\"T_385f6_row7_col6\" class=\"data row7 col6\" >Not Started</td>\n",
       "      <td id=\"T_385f6_row7_col7\" class=\"data row7 col7\" >nan</td>\n",
       "    </tr>\n",
       "    <tr>\n",
       "      <th id=\"T_385f6_level0_row8\" class=\"row_heading level0 row8\" >8</th>\n",
       "      <td id=\"T_385f6_row8_col0\" class=\"data row8 col0\" >Earliest possible EPCA execution</td>\n",
       "      <td id=\"T_385f6_row8_col1\" class=\"data row8 col1\" >AES ↔ PRE</td>\n",
       "      <td id=\"T_385f6_row8_col2\" class=\"data row8 col2\" >2025-12-14</td>\n",
       "      <td id=\"T_385f6_row8_col3\" class=\"data row8 col3\" >2025-12-15</td>\n",
       "      <td id=\"T_385f6_row8_col4\" class=\"data row8 col4\" >0.000000</td>\n",
       "      <td id=\"T_385f6_row8_col5\" class=\"data row8 col5\" >0.0%</td>\n",
       "      <td id=\"T_385f6_row8_col6\" class=\"data row8 col6\" >Not Started</td>\n",
       "      <td id=\"T_385f6_row8_col7\" class=\"data row8 col7\" >Requires: (i) PRE binding pricing and allowances log (Nov 21), (ii) true-up of any open ACE/tech spec deviations, (iii) completed exhibit set. Target aligns with PRE’s request to close EPCA by year-end.</td>\n",
       "    </tr>\n",
       "  </tbody>\n",
       "</table>\n"
      ],
      "text/plain": [
       "<pandas.io.formats.style.Styler at 0x19bff7f42d0>"
      ]
     },
     "metadata": {},
     "output_type": "display_data"
    }
   ],
   "source": [
    "# Create unified dashboard\n",
    "from plotly.subplots import make_subplots\n",
    "\n",
    "# Calculate statistics\n",
    "total_tasks = len(df)\n",
    "completed_tasks = len(df[df['Status'] == 'Completed'])\n",
    "in_progress_tasks = len(df[df['Status'] == 'In Progress'])\n",
    "not_started_tasks = len(df[df['Status'] == 'Not Started'])\n",
    "overall_progress = df['Progress'].mean()\n",
    "\n",
    "# Display header statistics as cards\n",
    "display(HTML(f\"\"\"\n",
    "<div style='display: flex; gap: 20px; margin: 20px 0; flex-wrap: wrap;'>\n",
    "    <div style='background: linear-gradient(135deg, #667eea 0%, #764ba2 100%); \n",
    "                color: white; padding: 25px; border-radius: 15px; flex: 1; min-width: 200px;\n",
    "                box-shadow: 0 10px 30px rgba(0,0,0,0.2);'>\n",
    "        <div style='font-size: 14px; opacity: 0.9; margin-bottom: 10px;'>Total Milestones</div>\n",
    "        <div style='font-size: 42px; font-weight: bold;'>{total_tasks}</div>\n",
    "    </div>\n",
    "    <div style='background: linear-gradient(135deg, #f093fb 0%, #f5576c 100%); \n",
    "                color: white; padding: 25px; border-radius: 15px; flex: 1; min-width: 200px;\n",
    "                box-shadow: 0 10px 30px rgba(0,0,0,0.2);'>\n",
    "        <div style='font-size: 14px; opacity: 0.9; margin-bottom: 10px;'>In Progress</div>\n",
    "        <div style='font-size: 42px; font-weight: bold;'>{in_progress_tasks}</div>\n",
    "    </div>\n",
    "    <div style='background: linear-gradient(135deg, #4facfe 0%, #00f2fe 100%); \n",
    "                color: white; padding: 25px; border-radius: 15px; flex: 1; min-width: 200px;\n",
    "                box-shadow: 0 10px 30px rgba(0,0,0,0.2);'>\n",
    "        <div style='font-size: 14px; opacity: 0.9; margin-bottom: 10px;'>Not Started</div>\n",
    "        <div style='font-size: 42px; font-weight: bold;'>{not_started_tasks}</div>\n",
    "    </div>\n",
    "    <div style='background: linear-gradient(135deg, #43e97b 0%, #38f9d7 100%); \n",
    "                color: white; padding: 25px; border-radius: 15px; flex: 1; min-width: 200px;\n",
    "                box-shadow: 0 10px 30px rgba(0,0,0,0.2);'>\n",
    "        <div style='font-size: 14px; opacity: 0.9; margin-bottom: 10px;'>Overall Progress</div>\n",
    "        <div style='font-size: 42px; font-weight: bold;'>{overall_progress:.1f}%</div>\n",
    "    </div>\n",
    "</div>\n",
    "\"\"\"))\n",
    "\n",
    "# Create comprehensive dashboard with subplots\n",
    "fig = make_subplots(\n",
    "    rows=3, cols=2,\n",
    "    row_heights=[0.5, 0.25, 0.25],\n",
    "    column_widths=[0.6, 0.4],\n",
    "    specs=[\n",
    "        [{'type': 'xy', 'rowspan': 1, 'colspan': 2}, None],\n",
    "        [{'type': 'xy'}, {'type': 'pie'}],\n",
    "        [{'type': 'xy'}, {'type': 'bar'}]\n",
    "    ],\n",
    "    subplot_titles=(\n",
    "        'Project Timeline (Gantt Chart)',\n",
    "        'Progress by Milestone',\n",
    "        'Task Status Distribution',\n",
    "        'Tasks by Owner',\n",
    "        ''\n",
    "    ),\n",
    "    vertical_spacing=0.12,\n",
    "    horizontal_spacing=0.1\n",
    ")\n",
    "\n",
    "# Row 1: Gantt Chart (spans full width)\n",
    "for idx, row in df.iterrows():\n",
    "    # Background bar\n",
    "    fig.add_trace(go.Bar(\n",
    "        y=[row['Milestone']],\n",
    "        x=[row['Duration']],\n",
    "        base=row['Start'],\n",
    "        orientation='h',\n",
    "        marker=dict(color=row['Color'], opacity=0.3, line=dict(color=row['Color'], width=2)),\n",
    "        name=row['Owner'],\n",
    "        showlegend=False,\n",
    "        hovertemplate=(\n",
    "            f\"<b>{row['Milestone']}</b><br>\"\n",
    "            f\"Owner: {row['Owner']}<br>\"\n",
    "            f\"Start: {row['Start'].strftime('%Y-%m-%d')}<br>\"\n",
    "            f\"Finish: {row['Finish'].strftime('%Y-%m-%d')}<br>\"\n",
    "            f\"Duration: {row['Duration']} days<br>\"\n",
    "            f\"Progress: {row['Progress']:.1f}%<br>\"\n",
    "            f\"Status: {row['Status']}<extra></extra>\"\n",
    "        )\n",
    "    ), row=1, col=1)\n",
    "    \n",
    "    # Progress bar\n",
    "    if row['Progress'] > 0:\n",
    "        progress_duration = row['Duration'] * (row['Progress'] / 100)\n",
    "        fig.add_trace(go.Bar(\n",
    "            y=[row['Milestone']],\n",
    "            x=[progress_duration],\n",
    "            base=row['Start'],\n",
    "            orientation='h',\n",
    "            marker=dict(color=row['Color'], opacity=0.9),\n",
    "            showlegend=False,\n",
    "            hovertemplate=f\"Progress: {row['Progress']:.1f}%<extra></extra>\"\n",
    "        ), row=1, col=1)\n",
    "\n",
    "# Add today line to Gantt\n",
    "fig.add_vline(\n",
    "    x=today.timestamp() * 1000,\n",
    "    line_dash=\"dash\",\n",
    "    line_color=\"red\",\n",
    "    annotation_text=\"Today\",\n",
    "    annotation_position=\"top\",\n",
    "    row=1, col=1\n",
    ")\n",
    "\n",
    "# Row 2, Col 1: Progress by Milestone\n",
    "fig.add_trace(go.Bar(\n",
    "    y=df['Milestone'],\n",
    "    x=df['Progress'],\n",
    "    orientation='h',\n",
    "    marker=dict(\n",
    "        color=df['Progress'],\n",
    "        colorscale=[[0, '#e74c3c'], [0.5, '#f39c12'], [1, '#27ae60']],\n",
    "        showscale=False\n",
    "    ),\n",
    "    text=df['Progress'].round(1).astype(str) + '%',\n",
    "    textposition='inside',\n",
    "    showlegend=False,\n",
    "    hovertemplate='<b>%{y}</b><br>Progress: %{x:.1f}%<extra></extra>'\n",
    "), row=2, col=1)\n",
    "\n",
    "# Row 2, Col 2: Status pie chart\n",
    "status_counts = df['Status'].value_counts()\n",
    "fig.add_trace(go.Pie(\n",
    "    labels=status_counts.index,\n",
    "    values=status_counts.values,\n",
    "    marker=dict(colors=['#43e97b', '#f093fb', '#4facfe']),\n",
    "    hole=0.4,\n",
    "    showlegend=True\n",
    "), row=2, col=2)\n",
    "\n",
    "# Row 3, Col 2: Tasks by owner\n",
    "owner_counts = df['Owner'].value_counts()\n",
    "fig.add_trace(go.Bar(\n",
    "    x=owner_counts.index,\n",
    "    y=owner_counts.values,\n",
    "    marker=dict(color=['#2E86AB', '#A23B72', '#F18F01']),\n",
    "    text=owner_counts.values,\n",
    "    textposition='auto',\n",
    "    showlegend=False\n",
    "), row=3, col=2)\n",
    "\n",
    "# Update layout\n",
    "fig.update_xaxes(type='date', gridcolor='#ecf0f1', showgrid=True, row=1, col=1)\n",
    "fig.update_yaxes(autorange='reversed', gridcolor='#ecf0f1', row=1, col=1)\n",
    "fig.update_yaxes(autorange='reversed', gridcolor='#ecf0f1', row=2, col=1)\n",
    "fig.update_xaxes(range=[0, 100], gridcolor='#ecf0f1', showgrid=True, title='Progress (%)', row=2, col=1)\n",
    "fig.update_xaxes(title='Owner', row=3, col=2)\n",
    "fig.update_yaxes(title='Count', row=3, col=2)\n",
    "\n",
    "fig.update_layout(\n",
    "    title={\n",
    "        'text': 'Crescent Engineering Contracting Strategy Dashboard',\n",
    "        'x': 0.5,\n",
    "        'xanchor': 'center',\n",
    "        'font': {'size': 24, 'color': '#2c3e50'}\n",
    "    },\n",
    "    height=1400,\n",
    "    plot_bgcolor='white',\n",
    "    paper_bgcolor='white',\n",
    "    showlegend=True,\n",
    "    barmode='overlay',\n",
    "    font=dict(family='Arial, sans-serif', size=11)\n",
    ")\n",
    "\n",
    "fig.show()\n",
    "\n",
    "# Show upcoming milestones\n",
    "next_30_days = today + pd.Timedelta(days=30)\n",
    "upcoming = df[(df['Finish'] >= today) & (df['Finish'] <= next_30_days)].sort_values('Finish')\n",
    "\n",
    "if len(upcoming) > 0:\n",
    "    display(HTML(\"<h3 style='color: #3498db; margin-top: 30px;'>📅 Upcoming Milestones (Next 30 Days)</h3>\"))\n",
    "    \n",
    "    for idx, row in upcoming.iterrows():\n",
    "        days_until = (row['Finish'] - today).days\n",
    "        urgency_color = '#e74c3c' if days_until <= 7 else '#f39c12' if days_until <= 14 else '#3498db'\n",
    "        \n",
    "        display(HTML(f\"\"\"\n",
    "        <div style='background: white; border-left: 5px solid {urgency_color};\n",
    "                    padding: 15px; margin: 10px 0; border-radius: 8px;\n",
    "                    box-shadow: 0 2px 10px rgba(0,0,0,0.1);'>\n",
    "            <div style='display: flex; justify-content: space-between; align-items: center;'>\n",
    "                <div style='font-size: 16px; font-weight: bold; color: #2c3e50;'>{row['Milestone']}</div>\n",
    "                <div style='background: {urgency_color}; color: white; padding: 5px 15px; \n",
    "                            border-radius: 20px; font-weight: bold;'>{days_until} days</div>\n",
    "            </div>\n",
    "            <div style='margin-top: 10px; color: #7f8c8d;'>\n",
    "                <strong>Owner:</strong> {row['Owner']} | <strong>Due:</strong> {row['Finish'].strftime('%Y-%m-%d')} | \n",
    "                <strong>Progress:</strong> {row['Progress']:.1f}%\n",
    "            </div>\n",
    "        </div>\n",
    "        \"\"\"))\n",
    "\n",
    "# Show detailed table\n",
    "display(HTML(\"<h3 style='color: #2c3e50; margin-top: 30px;'>📋 Detailed Milestone Information</h3>\"))\n",
    "display_df = df[['Milestone', 'Owner', 'Start', 'Finish', 'Duration', 'Progress', 'Status', 'Notes']].copy()\n",
    "display_df['Start'] = display_df['Start'].dt.strftime('%Y-%m-%d')\n",
    "display_df['Finish'] = display_df['Finish'].dt.strftime('%Y-%m-%d')\n",
    "display_df['Progress'] = display_df['Progress'].round(1).astype(str) + '%'\n",
    "\n",
    "styled_df = display_df.style.set_properties(**{\n",
    "    'background-color': 'white', 'color': '#2c3e50', 'border': '1px solid #ecf0f1',\n",
    "    'padding': '10px', 'text-align': 'left'\n",
    "}).set_table_styles([\n",
    "    {'selector': 'th', 'props': [('background-color', '#34495e'), ('color', 'white'), ('font-weight', 'bold'), ('padding', '12px')]},\n",
    "    {'selector': 'tr:hover', 'props': [('background-color', '#ecf0f1')]}\n",
    "])\n",
    "\n",
    "display(styled_df)"
   ]
  },
  {
   "cell_type": "code",
   "execution_count": 7,
   "metadata": {},
   "outputs": [
    {
     "data": {
      "application/vnd.plotly.v1+json": {
       "config": {
        "plotlyServerURL": "https://plot.ly"
       },
       "data": [
        {
         "hovertemplate": "<b>%{y}</b><br>Progress: %{x:.1f}%<extra></extra>",
         "marker": {
          "color": {
           "bdata": "AAAAAAAAAAAAAAAAAAAAAAAAAAAAAAAAAAAAAAAAAAAAAAAAAAAAAAAAAAAAAAAAAAAAAAAAAAAAAAAAAAAAAAAAAAAAAAAA",
           "dtype": "f8"
          },
          "colorbar": {
           "title": {
            "text": "Progress %"
           }
          },
          "colorscale": [
           [
            0,
            "#e74c3c"
           ],
           [
            0.5,
            "#f39c12"
           ],
           [
            1,
            "#27ae60"
           ]
          ],
          "showscale": true
         },
         "orientation": "h",
         "text": [
          "0.0%",
          "0.0%",
          "0.0%",
          "0.0%",
          "0.0%",
          "0.0%",
          "0.0%",
          "0.0%",
          "0.0%"
         ],
         "textposition": "inside",
         "type": "bar",
         "x": {
          "bdata": "AAAAAAAAAAAAAAAAAAAAAAAAAAAAAAAAAAAAAAAAAAAAAAAAAAAAAAAAAAAAAAAAAAAAAAAAAAAAAAAAAAAAAAAAAAAAAAAA",
          "dtype": "f8"
         },
         "y": [
          "Project engineering document handoff ",
          "AES provide external folder with EPCA exhibits ",
          "Internal layout modeling   (510ac & 550ac)",
          "layout decision ",
          "Layout Redesign  (PRE 10%, schedule, and binding pricing)",
          "Updated PPA offer submission ",
          "PPA decision ",
          "EPCA negotiations",
          "Earliest possible EPCA execution"
         ]
        }
       ],
       "layout": {
        "font": {
         "family": "Arial, sans-serif",
         "size": 12
        },
        "height": 600,
        "paper_bgcolor": "white",
        "plot_bgcolor": "white",
        "template": {
         "data": {
          "bar": [
           {
            "error_x": {
             "color": "#2a3f5f"
            },
            "error_y": {
             "color": "#2a3f5f"
            },
            "marker": {
             "line": {
              "color": "#E5ECF6",
              "width": 0.5
             },
             "pattern": {
              "fillmode": "overlay",
              "size": 10,
              "solidity": 0.2
             }
            },
            "type": "bar"
           }
          ],
          "barpolar": [
           {
            "marker": {
             "line": {
              "color": "#E5ECF6",
              "width": 0.5
             },
             "pattern": {
              "fillmode": "overlay",
              "size": 10,
              "solidity": 0.2
             }
            },
            "type": "barpolar"
           }
          ],
          "carpet": [
           {
            "aaxis": {
             "endlinecolor": "#2a3f5f",
             "gridcolor": "white",
             "linecolor": "white",
             "minorgridcolor": "white",
             "startlinecolor": "#2a3f5f"
            },
            "baxis": {
             "endlinecolor": "#2a3f5f",
             "gridcolor": "white",
             "linecolor": "white",
             "minorgridcolor": "white",
             "startlinecolor": "#2a3f5f"
            },
            "type": "carpet"
           }
          ],
          "choropleth": [
           {
            "colorbar": {
             "outlinewidth": 0,
             "ticks": ""
            },
            "type": "choropleth"
           }
          ],
          "contour": [
           {
            "colorbar": {
             "outlinewidth": 0,
             "ticks": ""
            },
            "colorscale": [
             [
              0,
              "#0d0887"
             ],
             [
              0.1111111111111111,
              "#46039f"
             ],
             [
              0.2222222222222222,
              "#7201a8"
             ],
             [
              0.3333333333333333,
              "#9c179e"
             ],
             [
              0.4444444444444444,
              "#bd3786"
             ],
             [
              0.5555555555555556,
              "#d8576b"
             ],
             [
              0.6666666666666666,
              "#ed7953"
             ],
             [
              0.7777777777777778,
              "#fb9f3a"
             ],
             [
              0.8888888888888888,
              "#fdca26"
             ],
             [
              1,
              "#f0f921"
             ]
            ],
            "type": "contour"
           }
          ],
          "contourcarpet": [
           {
            "colorbar": {
             "outlinewidth": 0,
             "ticks": ""
            },
            "type": "contourcarpet"
           }
          ],
          "heatmap": [
           {
            "colorbar": {
             "outlinewidth": 0,
             "ticks": ""
            },
            "colorscale": [
             [
              0,
              "#0d0887"
             ],
             [
              0.1111111111111111,
              "#46039f"
             ],
             [
              0.2222222222222222,
              "#7201a8"
             ],
             [
              0.3333333333333333,
              "#9c179e"
             ],
             [
              0.4444444444444444,
              "#bd3786"
             ],
             [
              0.5555555555555556,
              "#d8576b"
             ],
             [
              0.6666666666666666,
              "#ed7953"
             ],
             [
              0.7777777777777778,
              "#fb9f3a"
             ],
             [
              0.8888888888888888,
              "#fdca26"
             ],
             [
              1,
              "#f0f921"
             ]
            ],
            "type": "heatmap"
           }
          ],
          "histogram": [
           {
            "marker": {
             "pattern": {
              "fillmode": "overlay",
              "size": 10,
              "solidity": 0.2
             }
            },
            "type": "histogram"
           }
          ],
          "histogram2d": [
           {
            "colorbar": {
             "outlinewidth": 0,
             "ticks": ""
            },
            "colorscale": [
             [
              0,
              "#0d0887"
             ],
             [
              0.1111111111111111,
              "#46039f"
             ],
             [
              0.2222222222222222,
              "#7201a8"
             ],
             [
              0.3333333333333333,
              "#9c179e"
             ],
             [
              0.4444444444444444,
              "#bd3786"
             ],
             [
              0.5555555555555556,
              "#d8576b"
             ],
             [
              0.6666666666666666,
              "#ed7953"
             ],
             [
              0.7777777777777778,
              "#fb9f3a"
             ],
             [
              0.8888888888888888,
              "#fdca26"
             ],
             [
              1,
              "#f0f921"
             ]
            ],
            "type": "histogram2d"
           }
          ],
          "histogram2dcontour": [
           {
            "colorbar": {
             "outlinewidth": 0,
             "ticks": ""
            },
            "colorscale": [
             [
              0,
              "#0d0887"
             ],
             [
              0.1111111111111111,
              "#46039f"
             ],
             [
              0.2222222222222222,
              "#7201a8"
             ],
             [
              0.3333333333333333,
              "#9c179e"
             ],
             [
              0.4444444444444444,
              "#bd3786"
             ],
             [
              0.5555555555555556,
              "#d8576b"
             ],
             [
              0.6666666666666666,
              "#ed7953"
             ],
             [
              0.7777777777777778,
              "#fb9f3a"
             ],
             [
              0.8888888888888888,
              "#fdca26"
             ],
             [
              1,
              "#f0f921"
             ]
            ],
            "type": "histogram2dcontour"
           }
          ],
          "mesh3d": [
           {
            "colorbar": {
             "outlinewidth": 0,
             "ticks": ""
            },
            "type": "mesh3d"
           }
          ],
          "parcoords": [
           {
            "line": {
             "colorbar": {
              "outlinewidth": 0,
              "ticks": ""
             }
            },
            "type": "parcoords"
           }
          ],
          "pie": [
           {
            "automargin": true,
            "type": "pie"
           }
          ],
          "scatter": [
           {
            "fillpattern": {
             "fillmode": "overlay",
             "size": 10,
             "solidity": 0.2
            },
            "type": "scatter"
           }
          ],
          "scatter3d": [
           {
            "line": {
             "colorbar": {
              "outlinewidth": 0,
              "ticks": ""
             }
            },
            "marker": {
             "colorbar": {
              "outlinewidth": 0,
              "ticks": ""
             }
            },
            "type": "scatter3d"
           }
          ],
          "scattercarpet": [
           {
            "marker": {
             "colorbar": {
              "outlinewidth": 0,
              "ticks": ""
             }
            },
            "type": "scattercarpet"
           }
          ],
          "scattergeo": [
           {
            "marker": {
             "colorbar": {
              "outlinewidth": 0,
              "ticks": ""
             }
            },
            "type": "scattergeo"
           }
          ],
          "scattergl": [
           {
            "marker": {
             "colorbar": {
              "outlinewidth": 0,
              "ticks": ""
             }
            },
            "type": "scattergl"
           }
          ],
          "scattermap": [
           {
            "marker": {
             "colorbar": {
              "outlinewidth": 0,
              "ticks": ""
             }
            },
            "type": "scattermap"
           }
          ],
          "scattermapbox": [
           {
            "marker": {
             "colorbar": {
              "outlinewidth": 0,
              "ticks": ""
             }
            },
            "type": "scattermapbox"
           }
          ],
          "scatterpolar": [
           {
            "marker": {
             "colorbar": {
              "outlinewidth": 0,
              "ticks": ""
             }
            },
            "type": "scatterpolar"
           }
          ],
          "scatterpolargl": [
           {
            "marker": {
             "colorbar": {
              "outlinewidth": 0,
              "ticks": ""
             }
            },
            "type": "scatterpolargl"
           }
          ],
          "scatterternary": [
           {
            "marker": {
             "colorbar": {
              "outlinewidth": 0,
              "ticks": ""
             }
            },
            "type": "scatterternary"
           }
          ],
          "surface": [
           {
            "colorbar": {
             "outlinewidth": 0,
             "ticks": ""
            },
            "colorscale": [
             [
              0,
              "#0d0887"
             ],
             [
              0.1111111111111111,
              "#46039f"
             ],
             [
              0.2222222222222222,
              "#7201a8"
             ],
             [
              0.3333333333333333,
              "#9c179e"
             ],
             [
              0.4444444444444444,
              "#bd3786"
             ],
             [
              0.5555555555555556,
              "#d8576b"
             ],
             [
              0.6666666666666666,
              "#ed7953"
             ],
             [
              0.7777777777777778,
              "#fb9f3a"
             ],
             [
              0.8888888888888888,
              "#fdca26"
             ],
             [
              1,
              "#f0f921"
             ]
            ],
            "type": "surface"
           }
          ],
          "table": [
           {
            "cells": {
             "fill": {
              "color": "#EBF0F8"
             },
             "line": {
              "color": "white"
             }
            },
            "header": {
             "fill": {
              "color": "#C8D4E3"
             },
             "line": {
              "color": "white"
             }
            },
            "type": "table"
           }
          ]
         },
         "layout": {
          "annotationdefaults": {
           "arrowcolor": "#2a3f5f",
           "arrowhead": 0,
           "arrowwidth": 1
          },
          "autotypenumbers": "strict",
          "coloraxis": {
           "colorbar": {
            "outlinewidth": 0,
            "ticks": ""
           }
          },
          "colorscale": {
           "diverging": [
            [
             0,
             "#8e0152"
            ],
            [
             0.1,
             "#c51b7d"
            ],
            [
             0.2,
             "#de77ae"
            ],
            [
             0.3,
             "#f1b6da"
            ],
            [
             0.4,
             "#fde0ef"
            ],
            [
             0.5,
             "#f7f7f7"
            ],
            [
             0.6,
             "#e6f5d0"
            ],
            [
             0.7,
             "#b8e186"
            ],
            [
             0.8,
             "#7fbc41"
            ],
            [
             0.9,
             "#4d9221"
            ],
            [
             1,
             "#276419"
            ]
           ],
           "sequential": [
            [
             0,
             "#0d0887"
            ],
            [
             0.1111111111111111,
             "#46039f"
            ],
            [
             0.2222222222222222,
             "#7201a8"
            ],
            [
             0.3333333333333333,
             "#9c179e"
            ],
            [
             0.4444444444444444,
             "#bd3786"
            ],
            [
             0.5555555555555556,
             "#d8576b"
            ],
            [
             0.6666666666666666,
             "#ed7953"
            ],
            [
             0.7777777777777778,
             "#fb9f3a"
            ],
            [
             0.8888888888888888,
             "#fdca26"
            ],
            [
             1,
             "#f0f921"
            ]
           ],
           "sequentialminus": [
            [
             0,
             "#0d0887"
            ],
            [
             0.1111111111111111,
             "#46039f"
            ],
            [
             0.2222222222222222,
             "#7201a8"
            ],
            [
             0.3333333333333333,
             "#9c179e"
            ],
            [
             0.4444444444444444,
             "#bd3786"
            ],
            [
             0.5555555555555556,
             "#d8576b"
            ],
            [
             0.6666666666666666,
             "#ed7953"
            ],
            [
             0.7777777777777778,
             "#fb9f3a"
            ],
            [
             0.8888888888888888,
             "#fdca26"
            ],
            [
             1,
             "#f0f921"
            ]
           ]
          },
          "colorway": [
           "#636efa",
           "#EF553B",
           "#00cc96",
           "#ab63fa",
           "#FFA15A",
           "#19d3f3",
           "#FF6692",
           "#B6E880",
           "#FF97FF",
           "#FECB52"
          ],
          "font": {
           "color": "#2a3f5f"
          },
          "geo": {
           "bgcolor": "white",
           "lakecolor": "white",
           "landcolor": "#E5ECF6",
           "showlakes": true,
           "showland": true,
           "subunitcolor": "white"
          },
          "hoverlabel": {
           "align": "left"
          },
          "hovermode": "closest",
          "mapbox": {
           "style": "light"
          },
          "paper_bgcolor": "white",
          "plot_bgcolor": "#E5ECF6",
          "polar": {
           "angularaxis": {
            "gridcolor": "white",
            "linecolor": "white",
            "ticks": ""
           },
           "bgcolor": "#E5ECF6",
           "radialaxis": {
            "gridcolor": "white",
            "linecolor": "white",
            "ticks": ""
           }
          },
          "scene": {
           "xaxis": {
            "backgroundcolor": "#E5ECF6",
            "gridcolor": "white",
            "gridwidth": 2,
            "linecolor": "white",
            "showbackground": true,
            "ticks": "",
            "zerolinecolor": "white"
           },
           "yaxis": {
            "backgroundcolor": "#E5ECF6",
            "gridcolor": "white",
            "gridwidth": 2,
            "linecolor": "white",
            "showbackground": true,
            "ticks": "",
            "zerolinecolor": "white"
           },
           "zaxis": {
            "backgroundcolor": "#E5ECF6",
            "gridcolor": "white",
            "gridwidth": 2,
            "linecolor": "white",
            "showbackground": true,
            "ticks": "",
            "zerolinecolor": "white"
           }
          },
          "shapedefaults": {
           "line": {
            "color": "#2a3f5f"
           }
          },
          "ternary": {
           "aaxis": {
            "gridcolor": "white",
            "linecolor": "white",
            "ticks": ""
           },
           "baxis": {
            "gridcolor": "white",
            "linecolor": "white",
            "ticks": ""
           },
           "bgcolor": "#E5ECF6",
           "caxis": {
            "gridcolor": "white",
            "linecolor": "white",
            "ticks": ""
           }
          },
          "title": {
           "x": 0.05
          },
          "xaxis": {
           "automargin": true,
           "gridcolor": "white",
           "linecolor": "white",
           "ticks": "",
           "title": {
            "standoff": 15
           },
           "zerolinecolor": "white",
           "zerolinewidth": 2
          },
          "yaxis": {
           "automargin": true,
           "gridcolor": "white",
           "linecolor": "white",
           "ticks": "",
           "title": {
            "standoff": 15
           },
           "zerolinecolor": "white",
           "zerolinewidth": 2
          }
         }
        },
        "title": {
         "font": {
          "size": 20
         },
         "text": "Progress by Milestone",
         "x": 0.5,
         "xanchor": "center"
        },
        "xaxis": {
         "gridcolor": "#ecf0f1",
         "range": [
          0,
          100
         ],
         "showgrid": true,
         "title": {
          "text": "Progress (%)"
         }
        },
        "yaxis": {
         "autorange": "reversed",
         "gridcolor": "#ecf0f1"
        }
       }
      }
     },
     "metadata": {},
     "output_type": "display_data"
    }
   ],
   "source": [
    "# Create progress bar chart\n",
    "fig_progress = go.Figure()\n",
    "\n",
    "fig_progress.add_trace(go.Bar(\n",
    "    y=df['Milestone'],\n",
    "    x=df['Progress'],\n",
    "    orientation='h',\n",
    "    marker=dict(\n",
    "        color=df['Progress'],\n",
    "        colorscale=[\n",
    "            [0, '#e74c3c'],\n",
    "            [0.5, '#f39c12'],\n",
    "            [1, '#27ae60']\n",
    "        ],\n",
    "        showscale=True,\n",
    "        colorbar=dict(title='Progress %')\n",
    "    ),\n",
    "    text=df['Progress'].round(1).astype(str) + '%',\n",
    "    textposition='inside',\n",
    "    hovertemplate='<b>%{y}</b><br>Progress: %{x:.1f}%<extra></extra>'\n",
    "))\n",
    "\n",
    "fig_progress.update_layout(\n",
    "    title={\n",
    "        'text': 'Progress by Milestone',\n",
    "        'x': 0.5,\n",
    "        'xanchor': 'center',\n",
    "        'font': {'size': 20}\n",
    "    },\n",
    "    xaxis=dict(\n",
    "        title='Progress (%)',\n",
    "        range=[0, 100],\n",
    "        gridcolor='#ecf0f1',\n",
    "        showgrid=True\n",
    "    ),\n",
    "    yaxis=dict(\n",
    "        autorange='reversed',\n",
    "        gridcolor='#ecf0f1'\n",
    "    ),\n",
    "    height=600,\n",
    "    plot_bgcolor='white',\n",
    "    paper_bgcolor='white',\n",
    "    font=dict(family='Arial, sans-serif', size=12)\n",
    ")\n",
    "\n",
    "fig_progress.show()"
   ]
  },
  {
   "cell_type": "code",
   "execution_count": 11,
   "metadata": {},
   "outputs": [
    {
     "name": "stdout",
     "output_type": "stream",
     "text": [
      "To export current data to CSV, run:\n",
      "df.to_csv('crescent_dashboard_export.csv', index=False)\n",
      "\n",
      "To export to Excel, run:\n",
      "df.to_excel('crescent_dashboard_export.xlsx', index=False)\n"
     ]
    }
   ],
   "source": [
    "# Option to export filtered data\n",
    "print(\"To export current data to CSV, run:\")\n",
    "print(\"df.to_csv('crescent_dashboard_export.csv', index=False)\")\n",
    "print(\"\\nTo export to Excel, run:\")\n",
    "print(\"df.to_excel('crescent_dashboard_export.xlsx', index=False)\")"
   ]
  }
 ],
 "metadata": {
  "kernelspec": {
   "display_name": "dev",
   "language": "python",
   "name": "python3"
  },
  "language_info": {
   "codemirror_mode": {
    "name": "ipython",
    "version": 3
   },
   "file_extension": ".py",
   "mimetype": "text/x-python",
   "name": "python",
   "nbconvert_exporter": "python",
   "pygments_lexer": "ipython3",
   "version": "3.11.11"
  }
 },
 "nbformat": 4,
 "nbformat_minor": 4
}